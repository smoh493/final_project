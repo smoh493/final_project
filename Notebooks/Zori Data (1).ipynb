{
 "cells": [
  {
   "cell_type": "code",
   "execution_count": 24,
   "id": "b7d5b08a-faba-422b-874d-61e1422d6727",
   "metadata": {},
   "outputs": [],
   "source": [
    "import numpy as np\n",
    "import pandas as pd\n",
    "import geopandas as gpd"
   ]
  },
  {
   "cell_type": "markdown",
   "id": "1298a590-5b83-44cf-a86e-dde1ba11fb99",
   "metadata": {},
   "source": [
    "# Read Files"
   ]
  },
  {
   "cell_type": "code",
   "execution_count": 25,
   "id": "d206318d-b947-42b2-8dc6-06ccbec84730",
   "metadata": {},
   "outputs": [],
   "source": [
    "county_shapes = gpd.read_file('counties.geojson')"
   ]
  },
  {
   "cell_type": "code",
   "execution_count": 26,
   "id": "ebc1d2c1-c3aa-4cda-b458-015cde6dc165",
   "metadata": {},
   "outputs": [],
   "source": [
    "clean_zori = pd.read_csv(\"Clean_Zori - County_zori_uc_sfrcondomfr_sm_month.csv\")"
   ]
  },
  {
   "cell_type": "markdown",
   "id": "277f5b94-e3c4-4880-92b0-9e4fd01665f8",
   "metadata": {},
   "source": [
    "# Clean Files"
   ]
  },
  {
   "cell_type": "code",
   "execution_count": 27,
   "id": "5912e3e5-55a6-46a2-a7e6-87ec2fb749c6",
   "metadata": {},
   "outputs": [],
   "source": [
    "filtered_county_shapes = county_shapes[['NAME', 'geometry']]"
   ]
  },
  {
   "cell_type": "code",
   "execution_count": 28,
   "id": "d7c50ce7-869a-4f88-bbc5-d32eb6767b61",
   "metadata": {},
   "outputs": [
    {
     "data": {
      "text/html": [
       "<div>\n",
       "<style scoped>\n",
       "    .dataframe tbody tr th:only-of-type {\n",
       "        vertical-align: middle;\n",
       "    }\n",
       "\n",
       "    .dataframe tbody tr th {\n",
       "        vertical-align: top;\n",
       "    }\n",
       "\n",
       "    .dataframe thead th {\n",
       "        text-align: right;\n",
       "    }\n",
       "</style>\n",
       "<table border=\"1\" class=\"dataframe\">\n",
       "  <thead>\n",
       "    <tr style=\"text-align: right;\">\n",
       "      <th></th>\n",
       "      <th>NAME</th>\n",
       "      <th>geometry</th>\n",
       "    </tr>\n",
       "  </thead>\n",
       "  <tbody>\n",
       "    <tr>\n",
       "      <th>0</th>\n",
       "      <td>San Francisco</td>\n",
       "      <td>POLYGON ((-122.51198 37.77113, -122.46540 37.8...</td>\n",
       "    </tr>\n",
       "    <tr>\n",
       "      <th>1</th>\n",
       "      <td>Suffolk</td>\n",
       "      <td>POLYGON ((-71.19115 42.28306, -71.15689 42.330...</td>\n",
       "    </tr>\n",
       "    <tr>\n",
       "      <th>2</th>\n",
       "      <td>Banner</td>\n",
       "      <td>POLYGON ((-104.05283 41.69795, -103.37039 41.6...</td>\n",
       "    </tr>\n",
       "    <tr>\n",
       "      <th>3</th>\n",
       "      <td>Vance</td>\n",
       "      <td>POLYGON ((-78.49778 36.51448, -78.45728 36.541...</td>\n",
       "    </tr>\n",
       "    <tr>\n",
       "      <th>4</th>\n",
       "      <td>Sherman</td>\n",
       "      <td>POLYGON ((-102.16246 36.50033, -102.03234 36.5...</td>\n",
       "    </tr>\n",
       "    <tr>\n",
       "      <th>...</th>\n",
       "      <td>...</td>\n",
       "      <td>...</td>\n",
       "    </tr>\n",
       "    <tr>\n",
       "      <th>3215</th>\n",
       "      <td>Pike</td>\n",
       "      <td>POLYGON ((-91.46044 39.45072, -91.18288 39.598...</td>\n",
       "    </tr>\n",
       "    <tr>\n",
       "      <th>3216</th>\n",
       "      <td>Adjuntas</td>\n",
       "      <td>POLYGON ((-66.83274 18.22799, -66.81727 18.230...</td>\n",
       "    </tr>\n",
       "    <tr>\n",
       "      <th>3217</th>\n",
       "      <td>Hamilton</td>\n",
       "      <td>POLYGON ((-93.97158 42.55814, -93.49949 42.557...</td>\n",
       "    </tr>\n",
       "    <tr>\n",
       "      <th>3218</th>\n",
       "      <td>Carroll</td>\n",
       "      <td>POLYGON ((-95.09085 42.21040, -94.85841 42.209...</td>\n",
       "    </tr>\n",
       "    <tr>\n",
       "      <th>3219</th>\n",
       "      <td>Columbia</td>\n",
       "      <td>POLYGON ((-82.42533 33.65063, -82.30825 33.700...</td>\n",
       "    </tr>\n",
       "  </tbody>\n",
       "</table>\n",
       "<p>3220 rows × 2 columns</p>\n",
       "</div>"
      ],
      "text/plain": [
       "               NAME                                           geometry\n",
       "0     San Francisco  POLYGON ((-122.51198 37.77113, -122.46540 37.8...\n",
       "1           Suffolk  POLYGON ((-71.19115 42.28306, -71.15689 42.330...\n",
       "2            Banner  POLYGON ((-104.05283 41.69795, -103.37039 41.6...\n",
       "3             Vance  POLYGON ((-78.49778 36.51448, -78.45728 36.541...\n",
       "4           Sherman  POLYGON ((-102.16246 36.50033, -102.03234 36.5...\n",
       "...             ...                                                ...\n",
       "3215           Pike  POLYGON ((-91.46044 39.45072, -91.18288 39.598...\n",
       "3216       Adjuntas  POLYGON ((-66.83274 18.22799, -66.81727 18.230...\n",
       "3217       Hamilton  POLYGON ((-93.97158 42.55814, -93.49949 42.557...\n",
       "3218        Carroll  POLYGON ((-95.09085 42.21040, -94.85841 42.209...\n",
       "3219       Columbia  POLYGON ((-82.42533 33.65063, -82.30825 33.700...\n",
       "\n",
       "[3220 rows x 2 columns]"
      ]
     },
     "execution_count": 28,
     "metadata": {},
     "output_type": "execute_result"
    }
   ],
   "source": [
    "filtered_county_shapes"
   ]
  },
  {
   "cell_type": "code",
   "execution_count": 29,
   "id": "72f2ebd5-5d3b-47ea-a748-b1c80bb696e3",
   "metadata": {
    "scrolled": true
   },
   "outputs": [
    {
     "name": "stderr",
     "output_type": "stream",
     "text": [
      "C:\\Users\\Samira\\AppData\\Local\\Temp\\ipykernel_14608\\2793144476.py:1: SettingWithCopyWarning: \n",
      "A value is trying to be set on a copy of a slice from a DataFrame\n",
      "\n",
      "See the caveats in the documentation: https://pandas.pydata.org/pandas-docs/stable/user_guide/indexing.html#returning-a-view-versus-a-copy\n",
      "  filtered_county_shapes.rename(columns={'NAME': 'RegionName'}, inplace=True)\n"
     ]
    }
   ],
   "source": [
    "filtered_county_shapes.rename(columns={'NAME': 'RegionName'}, inplace=True)"
   ]
  },
  {
   "cell_type": "code",
   "execution_count": 30,
   "id": "2c950272-0fd0-4d98-8a2b-f5ca80ce9ab0",
   "metadata": {},
   "outputs": [],
   "source": [
    "clean_zori.dropna(subset=['2023-01-31'], inplace=True)"
   ]
  },
  {
   "cell_type": "code",
   "execution_count": 31,
   "id": "243aeef3-6023-41a8-aaa6-93d92631a83c",
   "metadata": {},
   "outputs": [],
   "source": [
    "clean_zori.dropna(subset=['2015-01-31'], inplace=True)"
   ]
  },
  {
   "cell_type": "code",
   "execution_count": 32,
   "id": "91d675a0-9c9c-4295-9b5b-af315ce302a3",
   "metadata": {},
   "outputs": [],
   "source": [
    "clean_zori['RegionName'] = clean_zori['RegionName'].str.strip()"
   ]
  },
  {
   "cell_type": "markdown",
   "id": "d0ac8098-7bfb-4cc3-b3de-66fd7f1ffe78",
   "metadata": {},
   "source": [
    "# Join Files"
   ]
  },
  {
   "cell_type": "code",
   "execution_count": 33,
   "id": "5c90f529-11a0-4912-a8d5-7b970aedcc34",
   "metadata": {},
   "outputs": [],
   "source": [
    "joined_df = pd.merge(clean_zori, filtered_county_shapes, on='RegionName')"
   ]
  },
  {
   "cell_type": "code",
   "execution_count": 34,
   "id": "93f75458-ac1f-411d-8ac4-796bfd4439f1",
   "metadata": {},
   "outputs": [],
   "source": [
    "df_clean = joined_df.drop_duplicates(subset=['RegionName'], keep='first')"
   ]
  },
  {
   "cell_type": "code",
   "execution_count": 35,
   "id": "2a6f6339-5677-4d63-8fa5-2f25604ebb44",
   "metadata": {},
   "outputs": [],
   "source": [
    "gdf = gpd.GeoDataFrame(df_clean, geometry= 'geometry')"
   ]
  },
  {
   "cell_type": "code",
   "execution_count": 36,
   "id": "9293b1c3-8bb4-447d-a92b-b5a229b5edcb",
   "metadata": {},
   "outputs": [],
   "source": [
    "gdf.index = range(1, len(gdf) + 1)"
   ]
  },
  {
   "cell_type": "code",
   "execution_count": 37,
   "id": "250e0d2a-7192-46e1-958a-762e51140039",
   "metadata": {
    "scrolled": true
   },
   "outputs": [
    {
     "data": {
      "text/plain": [
       "<Axes: >"
      ]
     },
     "execution_count": 37,
     "metadata": {},
     "output_type": "execute_result"
    },
    {
     "data": {
      "image/png": "[encoded data removed]",
      "text/plain": [
       "<Figure size 640x480 with 1 Axes>"
      ]
     },
     "metadata": {},
     "output_type": "display_data"
    }
   ],
   "source": [
    "gdf.plot()"
   ]
  },
  {
   "cell_type": "code",
   "execution_count": 38,
   "id": "6be4b63c-79a7-415d-89c5-6b503641e7c1",
   "metadata": {},
   "outputs": [
    {
     "data": {
      "text/html": [
       "<div>\n",
       "<style scoped>\n",
       "    .dataframe tbody tr th:only-of-type {\n",
       "        vertical-align: middle;\n",
       "    }\n",
       "\n",
       "    .dataframe tbody tr th {\n",
       "        vertical-align: top;\n",
       "    }\n",
       "\n",
       "    .dataframe thead th {\n",
       "        text-align: right;\n",
       "    }\n",
       "</style>\n",
       "<table border=\"1\" class=\"dataframe\">\n",
       "  <thead>\n",
       "    <tr style=\"text-align: right;\">\n",
       "      <th></th>\n",
       "      <th>RegionName</th>\n",
       "      <th>State</th>\n",
       "      <th>2015-01-31</th>\n",
       "      <th>2023-01-31</th>\n",
       "      <th>geometry</th>\n",
       "    </tr>\n",
       "  </thead>\n",
       "  <tbody>\n",
       "    <tr>\n",
       "      <th>1</th>\n",
       "      <td>Los Angeles</td>\n",
       "      <td>CA</td>\n",
       "      <td>1778.812344</td>\n",
       "      <td>2740.416023</td>\n",
       "      <td>MULTIPOLYGON (((-118.59397 33.46720, -118.4847...</td>\n",
       "    </tr>\n",
       "    <tr>\n",
       "      <th>2</th>\n",
       "      <td>Cook</td>\n",
       "      <td>IL</td>\n",
       "      <td>1478.571099</td>\n",
       "      <td>1921.004967</td>\n",
       "      <td>POLYGON ((-83.57486 31.07813, -83.50996 31.205...</td>\n",
       "    </tr>\n",
       "    <tr>\n",
       "      <th>3</th>\n",
       "      <td>Harris</td>\n",
       "      <td>TX</td>\n",
       "      <td>1203.141473</td>\n",
       "      <td>1565.700616</td>\n",
       "      <td>POLYGON ((-95.84474 30.08891, -95.80333 30.090...</td>\n",
       "    </tr>\n",
       "    <tr>\n",
       "      <th>4</th>\n",
       "      <td>Maricopa</td>\n",
       "      <td>AZ</td>\n",
       "      <td>954.608068</td>\n",
       "      <td>1812.313896</td>\n",
       "      <td>POLYGON ((-113.33392 33.37742, -113.33333 33.5...</td>\n",
       "    </tr>\n",
       "    <tr>\n",
       "      <th>5</th>\n",
       "      <td>San Diego</td>\n",
       "      <td>CA</td>\n",
       "      <td>1680.153232</td>\n",
       "      <td>2842.019136</td>\n",
       "      <td>POLYGON ((-117.59619 33.38696, -117.57848 33.4...</td>\n",
       "    </tr>\n",
       "    <tr>\n",
       "      <th>...</th>\n",
       "      <td>...</td>\n",
       "      <td>...</td>\n",
       "      <td>...</td>\n",
       "      <td>...</td>\n",
       "      <td>...</td>\n",
       "    </tr>\n",
       "    <tr>\n",
       "      <th>301</th>\n",
       "      <td>James City</td>\n",
       "      <td>VA</td>\n",
       "      <td>1279.369668</td>\n",
       "      <td>1811.262974</td>\n",
       "      <td>POLYGON ((-76.89180 37.43263, -76.74198 37.467...</td>\n",
       "    </tr>\n",
       "    <tr>\n",
       "      <th>302</th>\n",
       "      <td>Walton</td>\n",
       "      <td>FL</td>\n",
       "      <td>1025.814853</td>\n",
       "      <td>1950.873416</td>\n",
       "      <td>POLYGON ((-86.38864 30.99453, -86.36497 30.994...</td>\n",
       "    </tr>\n",
       "    <tr>\n",
       "      <th>303</th>\n",
       "      <td>Riley</td>\n",
       "      <td>KS</td>\n",
       "      <td>943.698576</td>\n",
       "      <td>1021.315339</td>\n",
       "      <td>POLYGON ((-96.95872 39.56640, -96.80654 39.566...</td>\n",
       "    </tr>\n",
       "    <tr>\n",
       "      <th>304</th>\n",
       "      <td>Liberty</td>\n",
       "      <td>GA</td>\n",
       "      <td>898.591085</td>\n",
       "      <td>1514.477576</td>\n",
       "      <td>POLYGON ((-95.16590 30.34498, -94.85252 30.482...</td>\n",
       "    </tr>\n",
       "    <tr>\n",
       "      <th>305</th>\n",
       "      <td>Coffee</td>\n",
       "      <td>AL</td>\n",
       "      <td>800.370618</td>\n",
       "      <td>1235.956403</td>\n",
       "      <td>POLYGON ((-86.19395 31.44007, -86.19478 31.529...</td>\n",
       "    </tr>\n",
       "  </tbody>\n",
       "</table>\n",
       "<p>305 rows × 5 columns</p>\n",
       "</div>"
      ],
      "text/plain": [
       "      RegionName State   2015-01-31   2023-01-31  \\\n",
       "1    Los Angeles    CA  1778.812344  2740.416023   \n",
       "2           Cook    IL  1478.571099  1921.004967   \n",
       "3         Harris    TX  1203.141473  1565.700616   \n",
       "4       Maricopa    AZ   954.608068  1812.313896   \n",
       "5      San Diego    CA  1680.153232  2842.019136   \n",
       "..           ...   ...          ...          ...   \n",
       "301   James City    VA  1279.369668  1811.262974   \n",
       "302       Walton    FL  1025.814853  1950.873416   \n",
       "303        Riley    KS   943.698576  1021.315339   \n",
       "304      Liberty    GA   898.591085  1514.477576   \n",
       "305       Coffee    AL   800.370618  1235.956403   \n",
       "\n",
       "                                              geometry  \n",
       "1    MULTIPOLYGON (((-118.59397 33.46720, -118.4847...  \n",
       "2    POLYGON ((-83.57486 31.07813, -83.50996 31.205...  \n",
       "3    POLYGON ((-95.84474 30.08891, -95.80333 30.090...  \n",
       "4    POLYGON ((-113.33392 33.37742, -113.33333 33.5...  \n",
       "5    POLYGON ((-117.59619 33.38696, -117.57848 33.4...  \n",
       "..                                                 ...  \n",
       "301  POLYGON ((-76.89180 37.43263, -76.74198 37.467...  \n",
       "302  POLYGON ((-86.38864 30.99453, -86.36497 30.994...  \n",
       "303  POLYGON ((-96.95872 39.56640, -96.80654 39.566...  \n",
       "304  POLYGON ((-95.16590 30.34498, -94.85252 30.482...  \n",
       "305  POLYGON ((-86.19395 31.44007, -86.19478 31.529...  \n",
       "\n",
       "[305 rows x 5 columns]"
      ]
     },
     "execution_count": 38,
     "metadata": {},
     "output_type": "execute_result"
    }
   ],
   "source": [
    "gdf"
   ]
  },
  {
   "cell_type": "code",
   "execution_count": 34,
   "id": "182e29e1-448d-44d0-aef4-628ec1ce1377",
   "metadata": {},
   "outputs": [],
   "source": []
  },
  {
   "cell_type": "code",
   "execution_count": null,
   "id": "d6866e67-c538-44b2-be7e-6e2186f09028",
   "metadata": {},
   "outputs": [],
   "source": []
  }
 ],
 "metadata": {
  "kernelspec": {
   "display_name": "info615",
   "language": "python",
   "name": "info615"
  },
  "language_info": {
   "codemirror_mode": {
    "name": "ipython",
    "version": 3
   },
   "file_extension": ".py",
   "mimetype": "text/x-python",
   "name": "python",
   "nbconvert_exporter": "python",
   "pygments_lexer": "ipython3",
   "version": "3.12.1"
  }
 },
 "nbformat": 4,
 "nbformat_minor": 5
}
